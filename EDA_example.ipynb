{
 "cells": [
  {
   "cell_type": "code",
   "execution_count": null,
   "metadata": {},
   "outputs": [],
   "source": [
    "from utilities import *"
   ]
  },
  {
   "cell_type": "code",
   "execution_count": null,
   "metadata": {},
   "outputs": [],
   "source": [
    "df = pd.read_csv(\"data/arthropods_cleaned.csv\", sep = ';') # for testing\n",
    "df.iloc[0]"
   ]
  },
  {
   "cell_type": "code",
   "execution_count": null,
   "metadata": {},
   "outputs": [],
   "source": [
    "# machaon 8225376\n",
    "print(name_from_key(8225376))\n",
    "print(branch(8225376))"
   ]
  },
  {
   "cell_type": "code",
   "execution_count": null,
   "metadata": {},
   "outputs": [],
   "source": [
    "lepidoptera         = get_group(df, branch(8225376)[\"orderKey\"], \"order\")\n",
    "lepidoptera[\"name\"] = lepidoptera[\"taxonKey\"].apply(name_from_key)\n",
    "lepidoptera.describe()"
   ]
  },
  {
   "cell_type": "code",
   "execution_count": null,
   "metadata": {},
   "outputs": [],
   "source": [
    "lepidoptera.groupby(\"name\").size().sort_values(ascending = False).head(20)"
   ]
  },
  {
   "cell_type": "code",
   "execution_count": null,
   "metadata": {},
   "outputs": [],
   "source": [
    "taxon_set = set(lepidoptera.groupby(\"taxonKey\").size().sort_values(ascending = False).head(20).index)\n",
    "to_plot = lepidoptera[lepidoptera[\"taxonKey\"].isin(taxon_set)]"
   ]
  },
  {
   "cell_type": "code",
   "execution_count": null,
   "metadata": {},
   "outputs": [],
   "source": [
    "to_plot.sort_values([\"year\", \"month\", \"day\"], inplace=True)\n",
    "to_plot.head()"
   ]
  },
  {
   "cell_type": "code",
   "execution_count": null,
   "metadata": {},
   "outputs": [],
   "source": [
    "import plotly.express as px\n",
    "\n",
    "to_plot.drop(to_plot[to_plot[\"year\"] < 1950].index, axis=0, inplace=True)\n",
    "fig = px.density_mapbox(to_plot, lat='decimalLatitude', lon='decimalLongitude', z=\"taxonRank\", radius=10, animation_frame=\"year\")\n",
    "# the z argument is bad and should be changed to something more meaningful\n",
    "fig.update_layout(mapbox_style=\"carto-positron\", mapbox_zoom=3, mapbox_center = {\"lat\": 62.8, \"lon\": 18.9},)\n",
    "fig.update_layout(margin={\"r\":0,\"t\":0,\"l\":0,\"b\":0})\n",
    "\n",
    "fig.layout.updatemenus[0].buttons[0].args[1][\"frame\"][\"duration\"] = 600\n",
    "fig.layout.updatemenus[0].buttons[0].args[1][\"transition\"][\"duration\"] = 600\n",
    "fig.layout.coloraxis.showscale = True   \n",
    "fig.layout.sliders[0].pad.t = 10\n",
    "fig.layout.updatemenus[0].pad.t= 10             \n",
    "\n",
    "fig.show()"
   ]
  },
  {
   "cell_type": "markdown",
   "metadata": {},
   "source": [
    "The date of the observations is *clearly not* uniformly distributed:"
   ]
  },
  {
   "cell_type": "code",
   "execution_count": null,
   "metadata": {},
   "outputs": [],
   "source": [
    "import matplotlib.pyplot as plt\n",
    "import seaborn as sns\n",
    "\n",
    "years_size = to_plot[\"decimalLatitude\"].groupby(to_plot[\"year\"]).size()\n",
    "years_size.plot(logy=True, title=\"Number of observations per year\", figsize=(5, 5))"
   ]
  },
  {
   "cell_type": "code",
   "execution_count": null,
   "metadata": {},
   "outputs": [],
   "source": [
    "y = to_plot[\"decimalLatitude\"].groupby(to_plot[\"year\"]).mean()\n",
    "y.plot()"
   ]
  },
  {
   "cell_type": "code",
   "execution_count": null,
   "metadata": {},
   "outputs": [],
   "source": [
    "from sklearn.linear_model import LinearRegression\n",
    "import numpy as np\n",
    "\n",
    "lr = LinearRegression()\n",
    "lr.fit(X = np.array(y.index).reshape(-1, 1), y = y.values.reshape(-1, 1), sample_weight = years_size.values)\n",
    "lr.coef_[0], lr.coef_[0][0]*74 # 74 years after 1950"
   ]
  },
  {
   "cell_type": "markdown",
   "metadata": {},
   "source": [
    "The mean latitude seems to be going up by about ~1/50th of a degree per year."
   ]
  },
  {
   "cell_type": "markdown",
   "metadata": {},
   "source": [
    "The mean latitude seems to be going up by about ~1/50th of a degree per year."
   ]
  }
 ],
 "metadata": {
  "kernelspec": {
   "display_name": "erdos_fall_2024",
   "language": "python",
   "name": "python3"
  },
  "language_info": {
   "codemirror_mode": {
    "name": "ipython",
    "version": 3
   },
   "file_extension": ".py",
   "mimetype": "text/x-python",
   "name": "python",
   "nbconvert_exporter": "python",
   "pygments_lexer": "ipython3",
   "version": "3.12.5"
  }
 },
 "nbformat": 4,
 "nbformat_minor": 2
}
