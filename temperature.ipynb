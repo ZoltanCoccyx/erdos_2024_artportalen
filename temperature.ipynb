{
 "cells": [
  {
   "cell_type": "markdown",
   "metadata": {},
   "source": [
    "# Getting the temperatures\n",
    "\n",
    "We use the dataset [*Nordic gridded temperature and precipitation data from 1961 to present derived from in-situ observations*](https://cds.climate.copernicus.eu/datasets/insitu-gridded-observations-nordic?tab=overview).\n",
    "\n",
    "Problem : it is more than 250Go and only a small part of it interests us. This notebook takes care of retrieving and then considering the resulting data.\n",
    "\n",
    "## Part I: Getting the data.\n",
    "\n",
    "This is very long and the resulting data is on the git. I suggest you go to part II directly.\n"
   ]
  },
  {
   "cell_type": "code",
   "execution_count": null,
   "metadata": {},
   "outputs": [],
   "source": [
    "%matplotlib widget"
   ]
  },
  {
   "cell_type": "code",
   "execution_count": null,
   "metadata": {},
   "outputs": [],
   "source": [
    "from concurrent.futures import ThreadPoolExecutor\n",
    "from urllib.request import urlretrieve\n",
    "from scipy.spatial import KDTree\n",
    "from tqdm.notebook import tqdm\n",
    "from time import time\n",
    "import netCDF4 as nc\n",
    "import pandas as pd\n",
    "import numpy as np\n",
    "import os\n",
    "\n",
    "# No temperature data before 1961.\n",
    "# Data for S1 2024 soon available.\n",
    "min_year = 1961\n",
    "max_year = 2023\n",
    "\n",
    "print(\"Reading arthropods...\", end=\"\")\n",
    "arth = pd.read_csv(\"./data/arthropods_sorted.csv\", sep = \";\")\n",
    "arth[\"ymd\"] = arth[\"year\"].astype(str) + arth[\"month\"].astype(str).str.zfill(2) + arth[\"day\"].astype(str).str.zfill(2)\n",
    "print(\" Done.\")\n",
    "\n",
    "# The temp grid is always the same.\n",
    "# We can use the same KDTree for all years to find the close point of the grid fast.\n",
    "# Conceptually overkill, in practice faster than what I'v done by hand.\n",
    "print(\"Constructing KDTree...\", end=\"\")\n",
    "url = f\"https://thredds.met.no/thredds/fileServer/ngcd/version_24.03/TG/type1/1961/01/NGCD_TG_type1_version_24.03_19610101.nc\"\n",
    "urlretrieve(url, \"19610101.nc\")\n",
    "ds = nc.Dataset(f\"19610101.nc\", \"r\")\n",
    "tree = KDTree(np.array([ds[\"lat\"][:].data.reshape(-1, ), ds[\"lon\"][:].data.reshape(-1, )]).T)\n",
    "os.remove(f\"19610101.nc\")\n",
    "print(\" Done.\")\n",
    "\n",
    "# This we will be able to parallelize\n",
    "def download(chunk):\n",
    "    row = chunk.iloc[0]\n",
    "    ymd = row[\"ymd\"]\n",
    "    year, month, day = ymd[:4], ymd[4:6], ymd[6:]\n",
    "    url =  f\"https://thredds.met.no/thredds/fileServer/ngcd/version_24.03/TG/type1/{year}/{month}/NGCD_TG_type1_version_24.03_{year+month+day}.nc\"\n",
    "    urlretrieve(url, f\"{year}/{ymd}.nc\")\n",
    "\n",
    "# This I wasn't able\n",
    "def read_temp(ymd):\n",
    "    year = ymd[:4]\n",
    "    with nc.Dataset(f\"{year}/{ymd}.nc\", \"r\") as ds:\n",
    "        lat = ds[\"lat\"][:].data.reshape(-1, ).copy()\n",
    "        lon = ds[\"lon\"][:].data.reshape(-1, ).copy()\n",
    "        temp = ds[\"TG\"][:].data.reshape(-1, ).copy()\n",
    "        return pd.DataFrame({'lat': lat, 'lon': lon, 'temp': temp})\n",
    "\n",
    "def extract_save(chunk):\n",
    "    ymd = chunk.iloc[0][\"ymd\"]\n",
    "    weather = read_temp(ymd)\n",
    "    os.remove(f\"{ymd[:4]}/{ymd}.nc\")\n",
    "    f = lambda row: weather.loc[tree.query([row[\"decimalLatitude\"], row[\"decimalLongitude\"]])[1]][\"temp\"]\n",
    "    chunk.apply(f, axis = 1).to_csv(f\"{ymd[:4]}/{ymd}.csv\")\n",
    "\n",
    "# We work year by year, downloading and then deleting as we go along.\n",
    "for year in tqdm(range(min_year, max_year + 1), desc=\"Years\"):#, initial = 1961, total=2023 - 1961 + 1):\n",
    "    if not os.path.exists(str(year)):\n",
    "        os.mkdir(str(year))\n",
    "\n",
    "    cur_arth = arth[arth[\"year\"] == year]\n",
    "    chunks = [cur_arth[cur_arth[\"ymd\"] == ymd] for ymd in tqdm(cur_arth[\"ymd\"].unique(), desc=\"Chunking\", leave=False)]\n",
    "\n",
    "    with ThreadPoolExecutor() as executor:\n",
    "        futures = tqdm([executor.submit(download, chunk) for chunk in chunks], desc=\"Downloading\", leave=False)\n",
    "        \n",
    "        for future in futures:\n",
    "            future.result()\n",
    "\n",
    "    for chunk in tqdm(chunks, desc= \"Extracting\", leave = False):\n",
    "        extract_save(chunk)\n"
   ]
  },
  {
   "cell_type": "code",
   "execution_count": null,
   "metadata": {},
   "outputs": [],
   "source": [
    "# We can then read all the info we have saved and concatenate it.\n",
    "dfs = []\n",
    "for ymd in tqdm(arth[(arth[\"year\"] > 1961) & (arth[\"year\"] < 2024)][\"ymd\"].unique()):\n",
    "    df = pd.read_csv(f\"./{ymd[:4]}/{ymd}.csv\", index_col=0)\n",
    "    dfs.append(df)\n",
    "temps = pd.concat(dfs) - 273.15 # Kelvin to Celsius\n",
    "temps.to_csv(f\"./data/temps{1961}_{max_year}.csv\", index = False)\n",
    "arthtemp = pd.concat([arth, temps], axis=1)\n",
    "arthtemp.rename(columns = {'0': \"temp\"}, inplace = True) # haven't been careful when saving the files\n",
    "arthtemp.drop(columns = [\"ymd\"], inplace = True)\n",
    "\n",
    "# We save it once and for all !\n",
    "arthtemp.to_csv(\"./data/arthropods_temps.csv\", index = False)"
   ]
  },
  {
   "cell_type": "markdown",
   "metadata": {},
   "source": [
    "## Part II: Checking the data we've downloaded"
   ]
  },
  {
   "cell_type": "code",
   "execution_count": null,
   "metadata": {},
   "outputs": [],
   "source": [
    "arthtemp.head()"
   ]
  },
  {
   "cell_type": "code",
   "execution_count": null,
   "metadata": {},
   "outputs": [],
   "source": [
    "# Let's see if we can see seasonal patterns\n",
    "arthtemp.groupby(['year', 'month'])[\"temp\"].mean().plot(figsize = (10, 5))"
   ]
  },
  {
   "cell_type": "markdown",
   "metadata": {},
   "source": [
    "Clearly something is wrong."
   ]
  },
  {
   "cell_type": "code",
   "execution_count": null,
   "metadata": {},
   "outputs": [],
   "source": [
    "arthtemp[\"temp\"].describe()"
   ]
  },
  {
   "cell_type": "markdown",
   "metadata": {},
   "source": [
    "The min value is absurd. Let's investigate."
   ]
  },
  {
   "cell_type": "code",
   "execution_count": null,
   "metadata": {},
   "outputs": [],
   "source": [
    "len(arthtemp[arthtemp[\"temp\"] < -100]), arthtemp[arthtemp[\"temp\"] < -100][\"temp\"].unique()"
   ]
  },
  {
   "cell_type": "code",
   "execution_count": null,
   "metadata": {},
   "outputs": [],
   "source": [
    "# This looks like a mistake. Let's remove those few lines.\n",
    "arthtemp.drop(arthtemp[arthtemp[\"temp\"] < -100].index, inplace = True)"
   ]
  },
  {
   "cell_type": "code",
   "execution_count": null,
   "metadata": {},
   "outputs": [],
   "source": [
    "arthtemp.groupby(['year', 'month'])[\"temp\"].mean().plot(figsize = (10, 5)) # better"
   ]
  },
  {
   "cell_type": "code",
   "execution_count": null,
   "metadata": {},
   "outputs": [],
   "source": [
    "arthtemp[\"temp\"].describe()"
   ]
  },
  {
   "cell_type": "markdown",
   "metadata": {},
   "source": []
  },
  {
   "cell_type": "code",
   "execution_count": null,
   "metadata": {},
   "outputs": [],
   "source": [
    "# Generated by ChatGPT\n",
    "# I needed to check if the temperature read for each observation was correct.\n",
    "# It wasn't. Now It should be. Will check again.\n",
    "\n",
    "import pandas as pd\n",
    "import datashader as ds\n",
    "import datashader.transfer_functions as tf\n",
    "import matplotlib.pyplot as plt\n",
    "import matplotlib as mpl\n",
    "import numpy as np\n",
    "from colorcet import fire\n",
    "\n",
    "def plot_combined_with_dual_colorbars(df_TG, df_arthropods):\n",
    "    # Set up a Canvas for plotting\n",
    "    cvs = ds.Canvas(plot_width=1000, plot_height=600,\n",
    "                    x_range=(df_TG['lon'].min(), df_TG['lon'].max()),\n",
    "                    y_range=(df_TG['lat'].min(), df_TG['lat'].max()))\n",
    "\n",
    "    # Aggregate by TG and shade the result\n",
    "    agg = cvs.points(df_TG, 'lon', 'lat', ds.mean('TG'))\n",
    "    base_img = tf.shade(agg, cmap=fire, how='log')\n",
    "    base_img_rgb = tf.set_background(base_img, \"white\").to_pil()  # Convert to RGBA\n",
    "\n",
    "    # Plot with Matplotlib\n",
    "    fig, ax = plt.subplots(figsize=(9, 4))\n",
    "    \n",
    "    # Set extent to match the coordinates of the data\n",
    "    extent = [df_TG['lon'].min(), df_TG['lon'].max(), df_TG['lat'].min(), df_TG['lat'].max()]\n",
    "    \n",
    "    # Display the Datashader image with proper extent\n",
    "    ax.imshow(base_img_rgb, extent=extent)\n",
    "\n",
    "    # Scatter plot of arthropod observations\n",
    "    sc = ax.scatter(df_arthropods['lon'], df_arthropods['lat'], c=df_arthropods['temperature'],\n",
    "                    cmap=mpl.colors.ListedColormap(fire), edgecolor=None, s=10, alpha=0.7)\n",
    "\n",
    "    # Create a colorbar for the arthropod temperature\n",
    "    cbar_arthropod = plt.colorbar(sc, ax=ax, orientation='vertical', pad=0.02, shrink=0.7)\n",
    "    cbar_arthropod.set_label(\"Arthropod Temperature Observations\")\n",
    "\n",
    "    # Create a second colorbar for the background temperature (TG)\n",
    "    norm = mpl.colors.Normalize(vmin=df_TG['TG'].min(), vmax=df_TG['TG'].max())\n",
    "    sm = mpl.cm.ScalarMappable(cmap=mpl.colors.ListedColormap(fire), norm=norm)\n",
    "    sm.set_array([])  # Dummy array for the colorbar\n",
    "    cbar_background = plt.colorbar(sm, ax=ax, orientation='vertical', pad=0.08, shrink=0.7)\n",
    "    cbar_background.set_label(\"Background Temperature (TG)\")\n",
    "\n",
    "    ax.set_xlabel(\"Longitude\")\n",
    "    ax.set_ylabel(\"Latitude\")\n",
    "    plt.title(\"Temperature Field with Arthropod Observations Overlay\")\n",
    "    plt.show()\n",
    "\n",
    "# Call the function\n",
    "df_day = df[df[\"ymd\"] == \"2021-7-1\"]\n",
    "plot_combined_with_dual_colorbars(weather20210701, df_day)"
   ]
  },
  {
   "cell_type": "code",
   "execution_count": null,
   "metadata": {},
   "outputs": [],
   "source": []
  }
 ],
 "metadata": {
  "kernelspec": {
   "display_name": "erdos_fall_2024",
   "language": "python",
   "name": "python3"
  },
  "language_info": {
   "codemirror_mode": {
    "name": "ipython",
    "version": 3
   },
   "file_extension": ".py",
   "mimetype": "text/x-python",
   "name": "python",
   "nbconvert_exporter": "python",
   "pygments_lexer": "ipython3",
   "version": "3.12.5"
  }
 },
 "nbformat": 4,
 "nbformat_minor": 2
}
